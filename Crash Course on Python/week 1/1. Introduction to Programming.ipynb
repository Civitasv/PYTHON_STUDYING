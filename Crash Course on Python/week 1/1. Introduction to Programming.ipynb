{
 "cells": [
  {
   "cell_type": "markdown",
   "source": [
    "# Introduction to Programming\r\n",
    "\r\n",
    "Syntax vs Semantics\r\n",
    "\r\n",
    "1. Syntax: The rules for how each instruction is written\r\n",
    "2. Semantics: The effect the instructions have\r\n",
    "\r\n",
    "Script vs Program\r\n",
    "\r\n",
    "1. Script: A program that's short, simple, and can be written very quickly\r\n",
    "\r\n",
    "Automation: The process of replacing a manual step with one that happens automatically\r\n"
   ],
   "metadata": {}
  }
 ],
 "metadata": {
  "orig_nbformat": 4,
  "language_info": {
   "name": "python"
  }
 },
 "nbformat": 4,
 "nbformat_minor": 2
}