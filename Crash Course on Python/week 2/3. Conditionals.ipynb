{
 "cells": [
  {
   "cell_type": "markdown",
   "source": [
    "## Comparing Things\r\n",
    "\r\n",
    "Boolean: One of two possible states: either true or false\r\n",
    "\r\n",
    "logical operator: and or not\r\n",
    "\r\n",
    "basic operator: > < = >= <= !="
   ],
   "metadata": {}
  },
  {
   "cell_type": "code",
   "execution_count": 3,
   "source": [
    "not 1==2"
   ],
   "outputs": [
    {
     "output_type": "execute_result",
     "data": {
      "text/plain": [
       "True"
      ]
     },
     "metadata": {},
     "execution_count": 3
    }
   ],
   "metadata": {}
  },
  {
   "cell_type": "markdown",
   "source": [],
   "metadata": {}
  },
  {
   "cell_type": "markdown",
   "source": [
    "## Branching with if Statements\r\n",
    "\r\n",
    "Branching: The ability of a program to alter its execution sequence"
   ],
   "metadata": {}
  },
  {
   "cell_type": "code",
   "execution_count": 4,
   "source": [
    "def hint_username(username):\r\n",
    "    if len(username) < 3:\r\n",
    "        print(\"Invalid username. Must be at least 3 characters long\")"
   ],
   "outputs": [],
   "metadata": {}
  },
  {
   "cell_type": "code",
   "execution_count": 5,
   "source": [
    "hint_username(\"ss\")"
   ],
   "outputs": [
    {
     "output_type": "stream",
     "name": "stdout",
     "text": [
      "Invalid username. Must be at least 3 characters long\n"
     ]
    }
   ],
   "metadata": {}
  },
  {
   "cell_type": "markdown",
   "source": [
    "## else Statements\r\n",
    "\r\n",
    "```py\r\n",
    "def hint_username(username):\r\n",
    "    if len(username) < 3:\r\n",
    "        print(\"Invalid username. Must be at least 3 characters long\")\r\n",
    "    else:\r\n",
    "        print(\"valid username\")\r\n",
    "```"
   ],
   "metadata": {}
  },
  {
   "cell_type": "markdown",
   "source": [
    "## elif Statements\r\n",
    "\r\n"
   ],
   "metadata": {}
  },
  {
   "cell_type": "code",
   "execution_count": 6,
   "source": [
    "def hint_username2(username):\r\n",
    "    if len(username) < 3:\r\n",
    "        print(\"invalid\")\r\n",
    "    elif len(username) > 15:\r\n",
    "        print(\"invalid\")\r\n",
    "    else:\r\n",
    "        print(\"valid\")\r\n"
   ],
   "outputs": [],
   "metadata": {}
  },
  {
   "cell_type": "code",
   "execution_count": 7,
   "source": [
    "hint_username2(\"sssssssssssssssssssssss\")"
   ],
   "outputs": [
    {
     "output_type": "stream",
     "name": "stdout",
     "text": [
      "invalid\n"
     ]
    }
   ],
   "metadata": {}
  }
 ],
 "metadata": {
  "orig_nbformat": 4,
  "language_info": {
   "name": "python",
   "version": "3.8.8",
   "mimetype": "text/x-python",
   "codemirror_mode": {
    "name": "ipython",
    "version": 3
   },
   "pygments_lexer": "ipython3",
   "nbconvert_exporter": "python",
   "file_extension": ".py"
  },
  "kernelspec": {
   "name": "python3",
   "display_name": "Python 3.8.8 64-bit ('base': conda)"
  },
  "interpreter": {
   "hash": "cc6c41298083dfa6fa0c5b9072d22e10f71d2a0a2d65b58caa418d2de123dde0"
  }
 },
 "nbformat": 4,
 "nbformat_minor": 2
}