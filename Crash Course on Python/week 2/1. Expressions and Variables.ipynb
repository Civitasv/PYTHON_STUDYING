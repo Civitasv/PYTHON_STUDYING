{
 "cells": [
  {
   "cell_type": "markdown",
   "source": [
    "# Basic Python Syntax introduction"
   ],
   "metadata": {}
  },
  {
   "cell_type": "code",
   "execution_count": 3,
   "source": [
    "# String: Known as a \"data type\"\r\n",
    "\r\n",
    "print(1 +\"8\") # upsupported operand type for +: 'int' and 'str'\r\n"
   ],
   "outputs": [
    {
     "output_type": "error",
     "ename": "TypeError",
     "evalue": "unsupported operand type(s) for +: 'int' and 'str'",
     "traceback": [
      "\u001b[1;31m---------------------------------------------------------------------------\u001b[0m",
      "\u001b[1;31mTypeError\u001b[0m                                 Traceback (most recent call last)",
      "\u001b[1;32m<ipython-input-3-2d04caa65efd>\u001b[0m in \u001b[0;36m<module>\u001b[1;34m\u001b[0m\n\u001b[0;32m      1\u001b[0m \u001b[1;31m# String: Known as a \"data type\"\u001b[0m\u001b[1;33m\u001b[0m\u001b[1;33m\u001b[0m\u001b[1;33m\u001b[0m\u001b[0m\n\u001b[0;32m      2\u001b[0m \u001b[1;33m\u001b[0m\u001b[0m\n\u001b[1;32m----> 3\u001b[1;33m \u001b[0mprint\u001b[0m\u001b[1;33m(\u001b[0m\u001b[1;36m1\u001b[0m \u001b[1;33m+\u001b[0m\u001b[1;34m\"8\"\u001b[0m\u001b[1;33m)\u001b[0m \u001b[1;31m# upsupported operand type for +: 'int' and 'str'\u001b[0m\u001b[1;33m\u001b[0m\u001b[1;33m\u001b[0m\u001b[0m\n\u001b[0m",
      "\u001b[1;31mTypeError\u001b[0m: unsupported operand type(s) for +: 'int' and 'str'"
     ]
    }
   ],
   "metadata": {}
  },
  {
   "cell_type": "code",
   "execution_count": null,
   "source": [],
   "outputs": [],
   "metadata": {}
  },
  {
   "cell_type": "code",
   "execution_count": 6,
   "source": [
    "# type: string integer float"
   ],
   "outputs": [],
   "metadata": {}
  },
  {
   "cell_type": "markdown",
   "source": [
    "+ Variables: Names that we give to certain values in our programs\r\n",
    "+ Assignment: The process of storing a value inside a variable\r\n",
    "+ Expression: A combination of numbers, symbols, or other variables that produce a result when evaluated\r\n",
    "\r\n",
    "Variable Naming Restrictions\r\n",
    "\r\n",
    "+ Don't use keywords or functions that Python reserves for its own\r\n",
    "+ Don't use spaces\r\n",
    "+ Must start with a letter or an underscore(_)\r\n",
    "+ Must be made up of only letters, numbers, and underscore"
   ],
   "metadata": {}
  },
  {
   "cell_type": "markdown",
   "source": [
    "Implicit conversion\r\n",
    "\r\n",
    "The interpreter automatically converts one data type into another.\r\n",
    "\r\n",
    "Explicit conversion\r\n",
    "\r\n",
    "Convert one data type into another explicitly."
   ],
   "metadata": {}
  }
 ],
 "metadata": {
  "orig_nbformat": 4,
  "language_info": {
   "name": "python",
   "version": "3.8.8",
   "mimetype": "text/x-python",
   "codemirror_mode": {
    "name": "ipython",
    "version": 3
   },
   "pygments_lexer": "ipython3",
   "nbconvert_exporter": "python",
   "file_extension": ".py"
  },
  "kernelspec": {
   "name": "python3",
   "display_name": "Python 3.8.8 64-bit ('base': conda)"
  },
  "interpreter": {
   "hash": "cc6c41298083dfa6fa0c5b9072d22e10f71d2a0a2d65b58caa418d2de123dde0"
  }
 },
 "nbformat": 4,
 "nbformat_minor": 2
}