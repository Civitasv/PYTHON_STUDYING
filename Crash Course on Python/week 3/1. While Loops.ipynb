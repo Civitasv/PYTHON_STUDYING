{
 "cells": [
  {
   "cell_type": "markdown",
   "source": [
    "# While Loop\r\n",
    "\r\n",
    "Definition: Instruct your computer to continuously execute your code based on the value of a condition."
   ],
   "metadata": {}
  },
  {
   "cell_type": "code",
   "execution_count": 2,
   "source": [
    "x = 0\r\n",
    "while x < 5:\r\n",
    "    print(\"x=\", str(x))\r\n",
    "    x = x + 1"
   ],
   "outputs": [
    {
     "output_type": "stream",
     "name": "stdout",
     "text": [
      "x= 0\n",
      "x= 1\n",
      "x= 2\n",
      "x= 3\n",
      "x= 4\n"
     ]
    }
   ],
   "metadata": {}
  },
  {
   "cell_type": "markdown",
   "source": [
    "Whenever you're writing a loop, check that you're initializing all the variables you want to use before you use them."
   ],
   "metadata": {}
  },
  {
   "cell_type": "code",
   "execution_count": 5,
   "source": [
    "x = 4\r\n",
    "\r\n",
    "while True:\r\n",
    "    print(\"value\", str(x))\r\n",
    "    x /= 2\r\n",
    "    if x < 0.5:\r\n",
    "        break"
   ],
   "outputs": [
    {
     "output_type": "stream",
     "name": "stdout",
     "text": [
      "value 4\n",
      "value 2.0\n",
      "value 1.0\n",
      "value 0.5\n"
     ]
    }
   ],
   "metadata": {}
  }
 ],
 "metadata": {
  "orig_nbformat": 4,
  "language_info": {
   "name": "python",
   "version": "3.8.8",
   "mimetype": "text/x-python",
   "codemirror_mode": {
    "name": "ipython",
    "version": 3
   },
   "pygments_lexer": "ipython3",
   "nbconvert_exporter": "python",
   "file_extension": ".py"
  },
  "kernelspec": {
   "name": "python3",
   "display_name": "Python 3.8.8 64-bit ('base': conda)"
  },
  "interpreter": {
   "hash": "cc6c41298083dfa6fa0c5b9072d22e10f71d2a0a2d65b58caa418d2de123dde0"
  }
 },
 "nbformat": 4,
 "nbformat_minor": 2
}